{
  "cells": [
    {
      "cell_type": "code",
      "execution_count": 7,
      "metadata": {
        "collapsed": false
      },
      "outputs": [],
      "source": [
        "# This cell is added by sphinx-gallery\n",
        "# It can be customized to whatever you like\n",
        "%matplotlib inline"
      ]
    },
    {
      "cell_type": "code",
      "execution_count": 8,
      "metadata": {
        "collapsed": false
      },
      "outputs": [],
      "source": [
        "from pennylane import numpy as np\n",
        "\n",
        "symbols = [\"H\", \"H\"]\n",
        "coordinates = np.array([0.0, 0.0, -0.6614, 0.0, 0.0, 0.6614])\n",
        "electrons = 2 "
      ]
    },
    {
      "cell_type": "code",
      "execution_count": 9,
      "metadata": {
        "collapsed": false
      },
      "outputs": [
        {
          "name": "stdout",
          "output_type": "stream",
          "text": [
            "Number of qubits =  4\n",
            "The Hamiltonian is  -0.042072551947439224 * I(0) + 0.1777135822909176 * Z(0) + -0.2427450126094144 * Z(2) + 0.12293330449299361 * (Z(0) @ Z(2)) + 0.1777135822909176 * Z(1) + 0.17059759276836803 * (Z(0) @ Z(1)) + 0.044750084063019925 * (Y(0) @ X(1) @ X(2) @ Y(3)) + -0.044750084063019925 * (Y(0) @ Y(1) @ X(2) @ X(3)) + -0.044750084063019925 * (X(0) @ X(1) @ Y(2) @ Y(3)) + 0.044750084063019925 * (X(0) @ Y(1) @ Y(2) @ X(3)) + -0.2427450126094144 * Z(3) + 0.16768338855601356 * (Z(0) @ Z(3)) + 0.12293330449299361 * (Z(1) @ Z(3)) + 0.16768338855601356 * (Z(1) @ Z(2)) + 0.1762766139418181 * (Z(2) @ Z(3))\n"
          ]
        }
      ],
      "source": [
        "import pennylane as qml\n",
        "\n",
        "H, qubits = qml.qchem.molecular_hamiltonian(symbols, coordinates)\n",
        "\n",
        "print(\"Number of qubits = \", qubits)\n",
        "print(\"The Hamiltonian is \", H)"
      ]
    },
    {
      "cell_type": "code",
      "execution_count": 10,
      "metadata": {
        "collapsed": false
      },
      "outputs": [
        {
          "name": "stdout",
          "output_type": "stream",
          "text": [
            "[1 1 0 0]\n"
          ]
        }
      ],
      "source": [
        "hf = qml.qchem.hf_state(electrons, qubits)\n",
        "print(hf)"
      ]
    },
    {
      "cell_type": "code",
      "execution_count": 11,
      "metadata": {
        "collapsed": false
      },
      "outputs": [
        {
          "name": "stdout",
          "output_type": "stream",
          "text": [
            "[[0, 2], [1, 3]]\n",
            "[[0, 1, 2, 3]]\n"
          ]
        }
      ],
      "source": [
        "singles, doubles = qml.qchem.excitations(electrons, qubits, delta_sz=0)\n",
        "print(singles)\n",
        "print(doubles)"
      ]
    },
    {
      "cell_type": "code",
      "execution_count": 12,
      "metadata": {
        "collapsed": false
      },
      "outputs": [],
      "source": [
        "def circuit(params, wires):\n",
        "    qml.AllSinglesDoubles(params, wires, hf, singles, doubles)"
      ]
    },
    {
      "cell_type": "code",
      "execution_count": 13,
      "metadata": {
        "collapsed": false
      },
      "outputs": [],
      "source": [
        "dev = qml.device(\"lightning.qubit\", wires=qubits)"
      ]
    },
    {
      "cell_type": "code",
      "execution_count": 14,
      "metadata": {
        "collapsed": false
      },
      "outputs": [],
      "source": [
        "@qml.qnode(dev, interface=\"autograd\")\n",
        "def cost_fn(params):\n",
        "    circuit(params, wires=range(qubits))\n",
        "    return qml.expval(H)"
      ]
    },
    {
      "cell_type": "code",
      "execution_count": 15,
      "metadata": {
        "collapsed": false
      },
      "outputs": [
        {
          "name": "stdout",
          "output_type": "stream",
          "text": [
            "[5.54193389 1.25713095 3.07479606]\n"
          ]
        }
      ],
      "source": [
        "opt = qml.GradientDescentOptimizer(stepsize=0.8)\n",
        "np.random.seed(0)  # for reproducibility\n",
        "theta = np.random.normal(0, np.pi, len(singles) + len(doubles), requires_grad=True)\n",
        "print(theta)"
      ]
    },
    {
      "cell_type": "code",
      "execution_count": 16,
      "metadata": {
        "collapsed": false
      },
      "outputs": [
        {
          "name": "stdout",
          "output_type": "stream",
          "text": [
            "\n",
            "Final value of the ground-state energy = -1.13618832 Ha\n",
            "\n",
            "Optimal value of the circuit parameters = [3.14350662 3.14087516 2.93185886]\n"
          ]
        }
      ],
      "source": [
        "max_iterations = 100\n",
        "conv_tol = 1e-06\n",
        "\n",
        "for n in range(max_iterations):\n",
        "\n",
        "    theta, prev_energy = opt.step_and_cost(cost_fn, theta)\n",
        "\n",
        "    energy = cost_fn(theta)\n",
        "\n",
        "    conv = np.abs(energy - prev_energy)\n",
        "    \n",
        "    if n % 4 == 0:\n",
        "        print(f\"Step = {n}, Energy = {energy:.8f} Ha\")\n",
        "\n",
        "    if conv <= conv_tol:\n",
        "        break\n",
        "\n",
        "print(\"\\n\" f\"Final value of the ground-state energy = {energy:.8f} Ha\")\n",
        "print(\"\\n\" f\"Optimal value of the circuit parameters = {theta}\")"
      ]
    },
    {
      "cell_type": "code",
      "execution_count": 17,
      "metadata": {},
      "outputs": [
        {
          "data": {
            "text/plain": [
              "tensor([3.14350662, 3.14087516, 2.93185886], requires_grad=True)"
            ]
          },
          "execution_count": 17,
          "metadata": {},
          "output_type": "execute_result"
        }
      ],
      "source": [
        "theta"
      ]
    },
    {
      "cell_type": "code",
      "execution_count": 36,
      "metadata": {},
      "outputs": [
        {
          "name": "stdout",
          "output_type": "stream",
          "text": [
            "[0j, 0j, 0j, (0.105+0j), 0j, 0j, (0.001+0j), 0j, 0j, (-0+0j), 0j, 0j, (-0.995+0j), 0j, 0j, 0j]\n"
          ]
        }
      ],
      "source": [
        "# Build the optimized staate\n",
        "@qml.qnode(dev)\n",
        "def optimized_state(params, wires):\n",
        "    qml.AllSinglesDoubles(params, wires, hf, singles, doubles)\n",
        "    return qml.state()\n",
        "\n",
        "# Get the optimized state\n",
        "optimized_state_rounded = [np.round(x, 3) for x in optimized_state(theta, wires=range(qubits))]\n",
        "\n",
        "print(optimized_state_rounded)"
      ]
    },
    {
      "cell_type": "code",
      "execution_count": null,
      "metadata": {},
      "outputs": [],
      "source": []
    }
  ],
  "metadata": {
    "kernelspec": {
      "display_name": "Python 3",
      "language": "python",
      "name": "python3"
    },
    "language_info": {
      "codemirror_mode": {
        "name": "ipython",
        "version": 3
      },
      "file_extension": ".py",
      "mimetype": "text/x-python",
      "name": "python",
      "nbconvert_exporter": "python",
      "pygments_lexer": "ipython3",
      "version": "3.9.4"
    }
  },
  "nbformat": 4,
  "nbformat_minor": 0
}

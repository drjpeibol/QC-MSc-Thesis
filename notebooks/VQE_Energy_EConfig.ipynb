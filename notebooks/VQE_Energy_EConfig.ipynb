{
  "cells": [
    {
      "cell_type": "code",
      "execution_count": 1,
      "metadata": {
        "collapsed": false
      },
      "outputs": [],
      "source": [
        "# Importamos las librerías necesarias\n",
        "%matplotlib inline\n",
        "import matplotlib.pyplot as plt\n",
        "from pennylane import numpy as np\n",
        "import pennylane as qml"
      ]
    },
    {
      "cell_type": "code",
      "execution_count": 2,
      "metadata": {
        "collapsed": false
      },
      "outputs": [],
      "source": [
        "# Definimos los parámetros de la molécula que buscamos simular\n",
        "# Elementos de la molécula\n",
        "elementos = [\"H\", \"H\"]\n",
        "coordenadas = np.array([0.0, 0.0, -0.6614, 0.0, 0.0, 0.6614])\n",
        "electrones = 2"
      ]
    },
    {
      "cell_type": "code",
      "execution_count": 3,
      "metadata": {
        "collapsed": false
      },
      "outputs": [
        {
          "name": "stdout",
          "output_type": "stream",
          "text": [
            "Qubits =  4\n",
            "Hamiltoniano:   -0.042072551947439224 * I(0) + 0.1777135822909176 * Z(0) + -0.2427450126094144 * Z(2) + 0.12293330449299361 * (Z(0) @ Z(2)) + 0.1777135822909176 * Z(1) + 0.17059759276836803 * (Z(0) @ Z(1)) + 0.044750084063019925 * (Y(0) @ X(1) @ X(2) @ Y(3)) + -0.044750084063019925 * (Y(0) @ Y(1) @ X(2) @ X(3)) + -0.044750084063019925 * (X(0) @ X(1) @ Y(2) @ Y(3)) + 0.044750084063019925 * (X(0) @ Y(1) @ Y(2) @ X(3)) + -0.2427450126094144 * Z(3) + 0.16768338855601356 * (Z(0) @ Z(3)) + 0.12293330449299361 * (Z(1) @ Z(3)) + 0.16768338855601356 * (Z(1) @ Z(2)) + 0.1762766139418181 * (Z(2) @ Z(3))\n"
          ]
        }
      ],
      "source": [
        "# Creamos el Hamiltoniano de la molécula y el número de qubits\n",
        "# necesarios para su simulación\n",
        "# Creamos la molécula\n",
        "molecula = qml.qchem.Molecule(elementos, coordenadas)\n",
        "\n",
        "# Obtenemos el Hamiltoniano y el número de qubits\n",
        "H, qubits = qml.qchem.molecular_hamiltonian(molecula)\n",
        "\n",
        "# Imprimimos el número de qubits y el Hamiltoniano\n",
        "print(\"Qubits = \", qubits)\n",
        "print(\"Hamiltoniano:  \", H)"
      ]
    },
    {
      "cell_type": "code",
      "execution_count": 4,
      "metadata": {
        "collapsed": false
      },
      "outputs": [
        {
          "name": "stdout",
          "output_type": "stream",
          "text": [
            "[1 1 0 0]\n"
          ]
        }
      ],
      "source": [
        "# Definimos el estado base de Hartree-Fock\n",
        "hf = qml.qchem.hf_state(electrones, qubits)\n",
        "\n",
        "# Imprimimos el estado base de Hartree-Fock\n",
        "print(hf)"
      ]
    },
    {
      "cell_type": "code",
      "execution_count": 5,
      "metadata": {
        "collapsed": false
      },
      "outputs": [
        {
          "name": "stdout",
          "output_type": "stream",
          "text": [
            "[[0, 2], [1, 3]]\n",
            "[[0, 1, 2, 3]]\n"
          ]
        }
      ],
      "source": [
        "# Definimos las excitaciones de los electrones\n",
        "singles, doubles = qml.qchem.excitations(electrones, qubits, delta_sz=0)\n",
        "\n",
        "# Imprimimos las excitaciones de los electrones\n",
        "print(singles)\n",
        "print(doubles)"
      ]
    },
    {
      "cell_type": "code",
      "execution_count": 6,
      "metadata": {
        "collapsed": false
      },
      "outputs": [],
      "source": [
        "# Implementamos un circicuito que implemente\n",
        "#  las excitaciones de los electrones\n",
        "def circuit(params, wires):\n",
        "    qml.AllSinglesDoubles(params, wires, hf, singles, doubles)"
      ]
    },
    {
      "cell_type": "code",
      "execution_count": 7,
      "metadata": {},
      "outputs": [],
      "source": [
        "# Definimos el dispositivo que vamos a utilizar\n",
        "dev = qml.device(\"lightning.qubit\", wires=qubits)"
      ]
    },
    {
      "cell_type": "code",
      "execution_count": 8,
      "metadata": {
        "collapsed": false
      },
      "outputs": [],
      "source": [
        "# Definimos la función de coste\n",
        "@qml.qnode(dev, interface=\"autograd\")\n",
        "def cost_fn(params):\n",
        "    circuit(params, wires=range(qubits))\n",
        "    return qml.expval(H)"
      ]
    },
    {
      "cell_type": "code",
      "execution_count": 9,
      "metadata": {},
      "outputs": [],
      "source": [
        "# Definimos el operador spin total S2\n",
        "S2 = qml.qchem.spin2(electrones, qubits)"
      ]
    },
    {
      "cell_type": "code",
      "execution_count": 10,
      "metadata": {},
      "outputs": [],
      "source": [
        "# Definimos elcircuito para el valor esperado\n",
        "# de S2\n",
        "@qml.qnode(dev, interface=\"autograd\")\n",
        "def S2_exp_value(params):\n",
        "    circuit(params, wires=range(qubits))\n",
        "    return qml.expval(S2)"
      ]
    },
    {
      "cell_type": "code",
      "execution_count": 11,
      "metadata": {},
      "outputs": [],
      "source": [
        "# Calculamos le valor del Spin total\n",
        "def spin_total(params):\n",
        "    return -0.5 + np.sqrt(1 / 4 + S2_exp_value(params))"
      ]
    },
    {
      "cell_type": "code",
      "execution_count": 12,
      "metadata": {
        "collapsed": false
      },
      "outputs": [
        {
          "name": "stdout",
          "output_type": "stream",
          "text": [
            "[5.54193389 1.25713095 3.07479606]\n"
          ]
        }
      ],
      "source": [
        "# Definimos el optimizador\n",
        "opt = qml.GradientDescentOptimizer(stepsize=0.35)\n",
        "np.random.seed(0)  \n",
        "\n",
        "# Definimos el valor inicial de los parámetros del circuito\n",
        "theta = np.random.normal(0, np.pi, len(singles) + len(doubles) ,requires_grad=True)\n",
        "print(theta)"
      ]
    },
    {
      "cell_type": "code",
      "execution_count": 13,
      "metadata": {
        "collapsed": false
      },
      "outputs": [
        {
          "name": "stdout",
          "output_type": "stream",
          "text": [
            "Iteración = 0, Energía = 0.03873360 Ha Spin = 0.07996\n",
            "Iteración = 4, Energía = -0.40990433 Ha Spin = 0.12873\n",
            "Iteración = 8, Energía = -0.73458829 Ha Spin = 0.11137\n",
            "Iteración = 12, Energía = -0.95554777 Ha Spin = 0.05814\n",
            "Iteración = 16, Energía = -1.07290383 Ha Spin = 0.02163\n",
            "Iteración = 20, Energía = -1.11645751 Ha Spin = 0.00695\n",
            "Iteración = 24, Energía = -1.13024314 Ha Spin = 0.00214\n",
            "Iteración = 28, Energía = -1.13441323 Ha Spin = 0.00065\n",
            "Iteración = 32, Energía = -1.13565998 Ha Spin = 0.00020\n",
            "Iteración = 36, Energía = -1.13603158 Ha Spin = 0.00006\n",
            "Iteración = 40, Energía = -1.13614224 Ha Spin = 0.00002\n",
            "\n",
            "Convergencia alcanzada en la iteración 42\n",
            "\n",
            "Aproximación a la energía del estado fundamental = -1.13616 Ha\n",
            "\n",
            "Aproximación al spin del estado fundamental = 0.00001\n",
            "\n",
            "Parámetreos óptimos del circuito = [3.15190158 3.1369829  2.93181786]\n"
          ]
        }
      ],
      "source": [
        "max_iter = 100\n",
        "stop_criteria = 1e-05\n",
        "energy_results = []\n",
        "spin_results = []\n",
        "\n",
        "# Bucle de optimización\n",
        "for n in range(max_iter):\n",
        "\n",
        "    # Calculamos le valor de los parámetos y el gradiente\n",
        "    #  de la energía\n",
        "    theta, prev_energy = opt.step_and_cost(cost_fn, theta)\n",
        "\n",
        "    # Calculamos el valor de la energía y el spin para los\n",
        "    #  parámetros actuales\n",
        "    energy = cost_fn(theta)\n",
        "    spin = spin_total(theta)\n",
        "\n",
        "    # Calculamos la convergencia como la diferencia entre \n",
        "    # la energía actual y la anterior\n",
        "    conv = np.abs(energy - prev_energy)\n",
        "    \n",
        "    # Imprimimos los resultados cada 4 iteraciones\n",
        "    if n % 4 == 0:\n",
        "        print(f\"Iteración = {n}, Energía = {energy:.8f} Ha\", f\"Spin = {spin:.5f}\")\n",
        "\n",
        "    # Comprobamos si se ha alcanzado el criterio de parada\n",
        "    if conv <= stop_criteria:\n",
        "        print(f\"\\n\" f\"Convergencia alcanzada en la iteración {n}\")\n",
        "        break\n",
        "    \n",
        "    # Guardamos los resultados\n",
        "    energy_results.append(energy)\n",
        "    spin_results.append(spin)\n",
        "    \n",
        "\n",
        "# Imprimimos los resultados finales\n",
        "print(\"\\n\" f\"Aproximación a la energía del estado fundamental = {energy:.5f} Ha\")\n",
        "print(\"\\n\" f\"Aproximación al spin del estado fundamental = {spin:.5f}\")\n",
        "print(\"\\n\" f\"Parámetreos óptimos del circuito = {theta}\")"
      ]
    },
    {
      "cell_type": "code",
      "execution_count": 84,
      "metadata": {},
      "outputs": [
        {
          "data": {
            "image/png": "[encoded data removed]",
            "text/plain": [
              "<Figure size 432x288 with 1 Axes>"
            ]
          },
          "metadata": {
            "needs_background": "light"
          },
          "output_type": "display_data"
        },
        {
          "data": {
            "text/plain": [
              "<Figure size 432x288 with 0 Axes>"
            ]
          },
          "metadata": {},
          "output_type": "display_data"
        },
        {
          "data": {
            "image/png": "[encoded data removed]",
            "text/plain": [
              "<Figure size 432x288 with 1 Axes>"
            ]
          },
          "metadata": {
            "needs_background": "light"
          },
          "output_type": "display_data"
        }
      ],
      "source": [
        "# Representamos gráficamente la convergencia de los algoritmos\n",
        "# Energía del estado fundamental\n",
        "E_gs = -1.13619\n",
        "plt.figure()\n",
        "plt.plot(energy_results,'o', label=\"Energía\")\n",
        "plt.axhline(y=E_gs, color='r', linestyle='--')\n",
        "plt.xlabel(\"Iteraciones\")\n",
        "plt.ylabel(\"Energía [Ha]\")\n",
        "plt.text(0, -1.1, r\"$E_\\mathrm{GS}$\", fontsize=15)\n",
        "plt.legend()\n",
        "plt.savefig(\"energy.png\",dpi = 300)\n",
        "plt.show()\n",
        "\n",
        "\n",
        "\n",
        "# Spin del estado fundamental\n",
        "plt.figure()\n",
        "plt.plot(spin_results,'o', label=\"Spin\")\n",
        "plt.axhline(y=0, color='r', linestyle='--')\n",
        "plt.text(0, 0.005, r\"$S = 0$\", fontsize=15)\n",
        "plt.xlabel(\"Iteraciones\")\n",
        "plt.ylabel(\"Spin\")\n",
        "plt.legend()\n",
        "plt.savefig(\"spin.png\", dpi=300)"
      ]
    },
    {
      "cell_type": "code",
      "execution_count": 36,
      "metadata": {},
      "outputs": [
        {
          "name": "stdout",
          "output_type": "stream",
          "text": [
            "[0j, 0j, 0j, (0.105+0j), 0j, 0j, (0.001+0j), 0j, 0j, (-0+0j), 0j, 0j, (-0.995+0j), 0j, 0j, 0j]\n"
          ]
        }
      ],
      "source": [
        "# Construimos el estado resultado del proceso de optimización\n",
        "@qml.qnode(dev)\n",
        "def optimized_state(params, wires):\n",
        "    qml.AllSinglesDoubles(params, wires, hf, singles, doubles)\n",
        "    return qml.state()\n",
        "\n",
        "# Get the optimized state\n",
        "optimized_state_rounded = [np.round(x, 3) \n",
        "                           for x in optimized_state(theta, wires=range(qubits))]\n",
        "\n",
        "print(optimized_state_rounded)"
      ]
    }
  ],
  "metadata": {
    "kernelspec": {
      "display_name": "Python 3",
      "language": "python",
      "name": "python3"
    },
    "language_info": {
      "codemirror_mode": {
        "name": "ipython",
        "version": 3
      },
      "file_extension": ".py",
      "mimetype": "text/x-python",
      "name": "python",
      "nbconvert_exporter": "python",
      "pygments_lexer": "ipython3",
      "version": "3.9.4"
    }
  },
  "nbformat": 4,
  "nbformat_minor": 0
}
